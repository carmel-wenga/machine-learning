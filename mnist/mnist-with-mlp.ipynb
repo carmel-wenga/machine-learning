{
 "cells": [
  {
   "cell_type": "markdown",
   "metadata": {},
   "source": [
    "# MNIST Handwritten Digits Recognition with MLP and Keras"
   ]
  },
  {
   "cell_type": "markdown",
   "metadata": {},
   "source": [
    "This notebook presents a simple guideline on how to implement a handwritten digit recognition with a simple neural networks called Multilayer Perceptron. In this guideline, I will use the ```tensorflow.keras``` high-level API to build the classifier."
   ]
  },
  {
   "cell_type": "markdown",
   "metadata": {},
   "source": [
    "## Requirements\n",
    "\n",
    "Tensorflow 2.x"
   ]
  },
  {
   "cell_type": "markdown",
   "metadata": {},
   "source": [
    "Run the following cell to import requirements"
   ]
  },
  {
   "cell_type": "code",
   "execution_count": 1,
   "metadata": {},
   "outputs": [],
   "source": [
    "from tensorflow import keras\n",
    "\n",
    "import matplotlib.pyplot as plt"
   ]
  },
  {
   "cell_type": "markdown",
   "metadata": {},
   "source": [
    "## Load and Visualize MNIST data"
   ]
  },
  {
   "cell_type": "markdown",
   "metadata": {},
   "source": [
    "The MNIST data is incorporated in the ```keras``` library. It contains $70.000$ grayscale images of handwritten digits separated into a training set of $60.000$ examples and a test set of $10.000$ examples. We can simply load the data by running the following cell.\n",
    "\n",
    "1. ```(x_train, y_train)``` : is the training set.\n",
    "2. ```(x_test, y_test)``` : is the test set."
   ]
  },
  {
   "cell_type": "code",
   "execution_count": 2,
   "metadata": {},
   "outputs": [],
   "source": [
    "(x_train, y_train), (x_test, y_test) = keras.datasets.mnist.load_data()"
   ]
  },
  {
   "cell_type": "markdown",
   "metadata": {},
   "source": [
    "Each training example is a $28\\times28$ pixels image associated with a label corresponding to its value. Run the cell below to randomly visualize 10 examples of handwritten digits with their corresponding labels. Run this cell multiple times to see another examples."
   ]
  },
  {
   "cell_type": "code",
   "execution_count": 3,
   "metadata": {},
   "outputs": [
    {
     "data": {
      "image/png": "[encoded data removed]",
      "text/plain": [
       "<Figure size 720x288 with 10 Axes>"
      ]
     },
     "metadata": {
      "needs_background": "light"
     },
     "output_type": "display_data"
    }
   ],
   "source": [
    "import numpy as np\n",
    "\n",
    "# select 10 random images from the first 100 examples\n",
    "rand_examples = np.random.randint(100, size=10)\n",
    "\n",
    "# defining the grid\n",
    "cols = 5\n",
    "rows = 2\n",
    "\n",
    "# size of images in the grid\n",
    "fig = plt.figure(figsize = (10,4))\n",
    "\n",
    "axis = []\n",
    "\n",
    "for i, expl in enumerate(rand_examples) :\n",
    "    # get the img and its corresponding label\n",
    "    img = x_train[expl,:,:]\n",
    "    label = y_train[expl]\n",
    "    \n",
    "    # add subplot to the grid\n",
    "    axis.append(fig.add_subplot(rows,cols,i+1))\n",
    "    \n",
    "    # display current image in the grid\n",
    "    axis[i].imshow(img)\n",
    "    axis[i].set_title(\"y = {}\".format(label))\n",
    "    plt.axis(\"off\")"
   ]
  },
  {
   "cell_type": "code",
   "execution_count": 4,
   "metadata": {},
   "outputs": [
    {
     "name": "stdout",
     "output_type": "stream",
     "text": [
      "60000 training examples of shape  (28, 28)\n",
      "60000 labels for training examples\n",
      "10000 test examples of shape  (28, 28)\n",
      "10000 labels for test examples\n"
     ]
    },
    {
     "data": {
      "text/plain": [
       "dtype('uint8')"
      ]
     },
     "execution_count": 4,
     "metadata": {},
     "output_type": "execute_result"
    }
   ],
   "source": [
    "print(x_train.shape[0], 'training examples of shape ',x_train.shape[1:])\n",
    "print(y_train.shape[0], 'labels for training examples')\n",
    "print(x_test.shape[0], 'test examples of shape ',x_test.shape[1:])\n",
    "print(y_test.shape[0], 'labels for test examples')\n",
    "x_train.dtype"
   ]
  },
  {
   "cell_type": "markdown",
   "metadata": {},
   "source": [
    "## Preprocess and Normalize data"
   ]
  },
  {
   "cell_type": "markdown",
   "metadata": {},
   "source": [
    "The pixel intensities of MNIST data are represented as integers (from 0 to 255) rather than floats (from 0.0 to 255.0). Since we will gradient descent to train our classifier, we need these values to be floats instead of intergers. Moreover, in order to efficiently train the model using gradient descent, we will scale the pixel intensities down to the 0-1 range by dividing them by 255.0."
   ]
  },
  {
   "cell_type": "code",
   "execution_count": 5,
   "metadata": {},
   "outputs": [],
   "source": [
    "x_train, x_test = x_train / 255.0, x_test / 255.0"
   ]
  },
  {
   "cell_type": "markdown",
   "metadata": {},
   "source": [
    "## Define the model"
   ]
  },
  {
   "cell_type": "markdown",
   "metadata": {},
   "source": [
    "The model defined here is a 4 layers MLP :\n",
    "\n",
    "1. Inuput layer. The input layer is a flatten vector of the input image. Pixel values are enrolled into a long vector of shape $(784,)$. This is the ```Flatten``` layer\n",
    "2. Hidden 1 : 300 units\n",
    "3. Hidden 2 : 100 units\n",
    "4. Output layer : 10 units. It contains as many output as there are output classes (10 output classes from 0 to 9). Each unit in the output layer outputs the probability that the input image belongs to the corresponding class.\n",
    "\n",
    "The figure below present the summary of our model\n",
    "\n",
    "<img src=\"img/mnist-model.png\">"
   ]
  },
  {
   "cell_type": "code",
   "execution_count": 6,
   "metadata": {},
   "outputs": [],
   "source": [
    "model = keras.models.Sequential([\n",
    "    # input layer : enroll the input image into a long vector of shape (784,)\n",
    "    keras.layers.Flatten(input_shape=(28,28)),\n",
    "    \n",
    "    # hidden 1\n",
    "    keras.layers.Dense(300, activation='relu'),\n",
    "    \n",
    "    # hidden 2\n",
    "    keras.layers.Dense(100, activation='relu'),\n",
    "    \n",
    "    # output layer\n",
    "    keras.layers.Dense(10, activation='softmax')\n",
    "])"
   ]
  },
  {
   "cell_type": "markdown",
   "metadata": {},
   "source": [
    "## Compile the model"
   ]
  },
  {
   "cell_type": "markdown",
   "metadata": {},
   "source": [
    "1. loss : ```sparse_categorical_crossentropy``` is used for integer labels $y\\in\\{0,...,9\\}$. If labels were one hot representations of these values, we would have used ```categorical_crossentropy```.\n",
    "2. optimizer : ```SGD```.\n",
    "3. metrics : ```['accuracy']```"
   ]
  },
  {
   "cell_type": "code",
   "execution_count": 7,
   "metadata": {},
   "outputs": [],
   "source": [
    "model.compile(\n",
    "    loss='sparse_categorical_crossentropy',\n",
    "    optimizer=keras.optimizers.SGD(lr=0.00001),\n",
    "    metrics=['accuracy']\n",
    ")"
   ]
  },
  {
   "cell_type": "markdown",
   "metadata": {},
   "source": [
    "## Fit the model"
   ]
  },
  {
   "cell_type": "markdown",
   "metadata": {},
   "source": [
    "One of the most important hyperparameter to tune when training machine learning model is the learning rate ```lr```. The performance of the model largely depends on the value of the learning rate.\n",
    "\n",
    "### How to choose the appropriate learning rate for a model ?\n",
    "\n",
    "1. Initialize the learning rate with a very low value, say $10^{-5}$\n",
    "2. Train the model for a few hundred iterations\n",
    "3. After each iteration, increase the learning rate by by multiplying it by a constant factor, say $\\exp(\\log(10^6 )/500)$\n",
    "4. After training, plot the loss as a function of the learning rate.\n",
    "5. The optimal learning will be a bit lower than the point that minimize the loss"
   ]
  },
  {
   "cell_type": "markdown",
   "metadata": {},
   "source": [
    "- Initialize the learning rate to be $10^{-5}$ with ```SGD(lr=0.00001)```\n",
    "- By training the model with ```batch_size=2```, the training process will iterate 30k times to process the entire training set.\n",
    "- After each iteration, multiply the learning by a ```factor=1.0004```. You can change this value to experiment it yourself. Class ```LearningRateSchedule``` is called while training and after each batch iteration, function ```on_batch_end()``` increase the learning rate."
   ]
  },
  {
   "cell_type": "code",
   "execution_count": 8,
   "metadata": {},
   "outputs": [],
   "source": [
    "K = keras.backend\n",
    "\n",
    "class LearningRateSchedule(keras.callbacks.Callback):\n",
    "    def __init__(self, factor):\n",
    "        self.factor = factor\n",
    "        self.lrates = []\n",
    "        self.losses = []\n",
    "    \n",
    "    def on_batch_end(self, epoch, logs):\n",
    "        # keep track of the current learning rate and loss\n",
    "        self.lrates.append(K.get_value(self.model.optimizer.lr))\n",
    "        self.losses.append(logs.get('loss'))\n",
    "        \n",
    "        # increase the learning rate, by multiplying it by the factor\n",
    "        K.set_value(self.model.optimizer.lr, self.model.optimizer.lr * self.factor)\n",
    "\n",
    "factor=1.0004\n",
    "lr_scheduler = LearningRateSchedule(factor=factor)"
   ]
  },
  {
   "cell_type": "markdown",
   "metadata": {},
   "source": [
    "Now, let's fit the model with one epochs to find the appropriate learning rate"
   ]
  },
  {
   "cell_type": "code",
   "execution_count": 9,
   "metadata": {},
   "outputs": [
    {
     "name": "stdout",
     "output_type": "stream",
     "text": [
      "    2/30000 [..............................] - ETA: 54:03 - loss: 2.6072 - accuracy: 0.0000e+00WARNING:tensorflow:Method (on_train_batch_end) is slow compared to the batch update (0.107664). Check your callbacks.\n",
      "30000/30000 [==============================] - 85s 3ms/step - loss: 1.4991 - accuracy: 0.5150 - val_loss: 2.5854 - val_accuracy: 0.1028\n"
     ]
    },
    {
     "data": {
      "text/plain": [
       "<tensorflow.python.keras.callbacks.History at 0x7f5f69460748>"
      ]
     },
     "execution_count": 9,
     "metadata": {},
     "output_type": "execute_result"
    }
   ],
   "source": [
    "model.fit(\n",
    "    x_train,\n",
    "    y_train,\n",
    "    epochs=1,\n",
    "    batch_size=2,\n",
    "    validation_data=(x_test, y_test),\n",
    "    callbacks=[lr_scheduler]\n",
    ")"
   ]
  },
  {
   "cell_type": "markdown",
   "metadata": {},
   "source": [
    "Now let's plot the lost as a function of the learning rate."
   ]
  },
  {
   "cell_type": "code",
   "execution_count": 10,
   "metadata": {},
   "outputs": [
    {
     "data": {
      "text/plain": [
       "Text(0, 0.5, 'Loss')"
      ]
     },
     "execution_count": 10,
     "metadata": {},
     "output_type": "execute_result"
    },
    {
     "data": {
      "image/png": "[encoded data removed]",
      "text/plain": [
       "<Figure size 432x288 with 1 Axes>"
      ]
     },
     "metadata": {
      "needs_background": "light"
     },
     "output_type": "display_data"
    }
   ],
   "source": [
    "plt.plot(lr_scheduler.lrates, lr_scheduler.losses)\n",
    "plt.gca().set_xscale('log')\n",
    "plt.hlines(min(lr_scheduler.losses), min(lr_scheduler.lrates), max(lr_scheduler.lrates))\n",
    "plt.axis([min(lr_scheduler.lrates), max(lr_scheduler.lrates), 0, lr_scheduler.losses[0]])\n",
    "plt.xlabel(\"Learning rate\")\n",
    "plt.ylabel(\"Loss\")"
   ]
  },
  {
   "cell_type": "markdown",
   "metadata": {},
   "source": [
    "The loss goes down and starts shooting back up violently around 1e-1. Let's sort the losses according to the learning rate to know exactly which value to use."
   ]
  },
  {
   "cell_type": "code",
   "execution_count": 11,
   "metadata": {},
   "outputs": [
    {
     "name": "stdout",
     "output_type": "stream",
     "text": [
      "min_loss =  1.2369022369384766\n",
      "corresponding lr =  0.153857\n"
     ]
    }
   ],
   "source": [
    "loss_lr = zip(lr_scheduler.losses, lr_scheduler.lrates)\n",
    "loss_lr = sorted(loss_lr)\n",
    "best_lr = loss_lr[0][1]\n",
    "print(\"min_loss = \", loss_lr[0][0])\n",
    "print(\"corresponding lr = \", loss_lr[0][1])"
   ]
  },
  {
   "cell_type": "markdown",
   "metadata": {},
   "source": [
    "$lr=0.1400017$ is then the learning rate that minimizes the loss."
   ]
  },
  {
   "cell_type": "code",
   "execution_count": 12,
   "metadata": {},
   "outputs": [],
   "source": [
    "new_lr = best_lr - 0.0001"
   ]
  },
  {
   "cell_type": "code",
   "execution_count": 13,
   "metadata": {},
   "outputs": [
    {
     "data": {
      "text/plain": [
       "<function tensorflow.python.keras.backend.clear_session()>"
      ]
     },
     "execution_count": 13,
     "metadata": {},
     "output_type": "execute_result"
    }
   ],
   "source": [
    "keras.backend.clear_session"
   ]
  },
  {
   "cell_type": "code",
   "execution_count": 14,
   "metadata": {},
   "outputs": [],
   "source": [
    "model = keras.models.Sequential([\n",
    "    # input layer : enroll the input image into a long vector of shape (784,)\n",
    "    keras.layers.Flatten(input_shape=(28,28)),\n",
    "    \n",
    "    # hidden 1\n",
    "    keras.layers.Dense(300, activation='relu'),\n",
    "    \n",
    "    # hidden 2\n",
    "    keras.layers.Dense(100, activation='relu'),\n",
    "    \n",
    "    # output layer\n",
    "    keras.layers.Dense(10, activation='softmax')\n",
    "])"
   ]
  },
  {
   "cell_type": "code",
   "execution_count": 15,
   "metadata": {},
   "outputs": [
    {
     "name": "stdout",
     "output_type": "stream",
     "text": [
      "learning rate lr =  0.15375699272155763\n"
     ]
    }
   ],
   "source": [
    "# recompile the model\n",
    "print('learning rate lr = ', new_lr)\n",
    "model.compile(\n",
    "    loss='sparse_categorical_crossentropy',\n",
    "    optimizer=keras.optimizers.SGD(lr=new_lr),\n",
    "    metrics=['accuracy']\n",
    ")"
   ]
  },
  {
   "cell_type": "code",
   "execution_count": 16,
   "metadata": {},
   "outputs": [],
   "source": [
    "class EarlyStopping(keras.callbacks.Callback):    \n",
    "    def on_epoch_end(self, epoch, logs):\n",
    "        if logs.get('accuracy')>0.98:\n",
    "            print('\\nReaching 98% of accurary, then stopping training')\n",
    "            self.model.stop_training = True\n",
    "\n",
    "# saving checkpoint of the model\n",
    "checkpoint = keras.callbacks.ModelCheckpoint('mnist_model.h5', save_best_only=True)\n",
    "\n",
    "# stop training if it reaches 98% of accuracy\n",
    "early_stopping = EarlyStopping()"
   ]
  },
  {
   "cell_type": "code",
   "execution_count": 17,
   "metadata": {},
   "outputs": [
    {
     "name": "stdout",
     "output_type": "stream",
     "text": [
      "Epoch 1/10\n",
      "1875/1875 [==============================] - 7s 4ms/step - loss: 0.2320 - accuracy: 0.9294 - val_loss: 0.1101 - val_accuracy: 0.9647\n",
      "Epoch 2/10\n",
      "1875/1875 [==============================] - 6s 3ms/step - loss: 0.0931 - accuracy: 0.9706 - val_loss: 0.0849 - val_accuracy: 0.9726\n",
      "Epoch 3/10\n",
      "1869/1875 [============================>.] - ETA: 0s - loss: 0.0622 - accuracy: 0.9802\n",
      "Reaching 98% of accurary, then stopping training\n",
      "1875/1875 [==============================] - 6s 3ms/step - loss: 0.0623 - accuracy: 0.9802 - val_loss: 0.0763 - val_accuracy: 0.9757\n"
     ]
    },
    {
     "data": {
      "text/plain": [
       "<tensorflow.python.keras.callbacks.History at 0x7f5f28615a20>"
      ]
     },
     "execution_count": 17,
     "metadata": {},
     "output_type": "execute_result"
    }
   ],
   "source": [
    "model.fit(\n",
    "    x_train,\n",
    "    y_train,\n",
    "    epochs=10,\n",
    "    validation_data=(x_test, y_test),\n",
    "    callbacks = [checkpoint, early_stopping]\n",
    ")"
   ]
  },
  {
   "cell_type": "markdown",
   "metadata": {},
   "source": [
    "Evaluate the model"
   ]
  },
  {
   "cell_type": "code",
   "execution_count": 18,
   "metadata": {},
   "outputs": [
    {
     "name": "stdout",
     "output_type": "stream",
     "text": [
      "313/313 [==============================] - 1s 2ms/step - loss: 0.0763 - accuracy: 0.9757\n"
     ]
    },
    {
     "data": {
      "text/plain": [
       "[0.07628162205219269, 0.9757000207901001]"
      ]
     },
     "execution_count": 18,
     "metadata": {},
     "output_type": "execute_result"
    }
   ],
   "source": [
    "model.evaluate(x_test, y_test)"
   ]
  },
  {
   "cell_type": "markdown",
   "metadata": {},
   "source": [
    "# Make predictions on a few test images"
   ]
  },
  {
   "cell_type": "code",
   "execution_count": 19,
   "metadata": {},
   "outputs": [
    {
     "data": {
      "text/plain": [
       "array([[2.2579873e-07, 3.2616140e-07, 8.2651983e-05, 8.6800910e-06,\n",
       "        2.6704756e-09, 2.0100929e-07, 1.5946108e-09, 9.9990606e-01,\n",
       "        2.9931053e-07, 1.5976882e-06],\n",
       "       [3.4873278e-08, 1.3577915e-04, 9.9978071e-01, 7.8310695e-05,\n",
       "        7.5654133e-10, 3.1097542e-07, 4.1567159e-06, 2.9810781e-08,\n",
       "        6.7806718e-07, 7.4421788e-12],\n",
       "       [7.1870801e-07, 9.9667287e-01, 4.1524289e-04, 1.0310719e-04,\n",
       "        1.0528374e-03, 9.1326830e-05, 4.3149595e-04, 4.9251696e-04,\n",
       "        7.2732219e-04, 1.2522334e-05]], dtype=float32)"
      ]
     },
     "execution_count": 19,
     "metadata": {},
     "output_type": "execute_result"
    }
   ],
   "source": [
    "digits = x_test[:3]\n",
    "model.predict(digits)"
   ]
  },
  {
   "cell_type": "markdown",
   "metadata": {},
   "source": [
    "# Author\n",
    "\n",
    "Carmel WENGA | Applied Machine Learning Research Engineer"
   ]
  }
 ],
 "metadata": {
  "kernelspec": {
   "display_name": "tensorflow_v2",
   "language": "python",
   "name": "tensorflow_v2"
  },
  "language_info": {
   "codemirror_mode": {
    "name": "ipython",
    "version": 3
   },
   "file_extension": ".py",
   "mimetype": "text/x-python",
   "name": "python",
   "nbconvert_exporter": "python",
   "pygments_lexer": "ipython3",
   "version": "3.6.10"
  }
 },
 "nbformat": 4,
 "nbformat_minor": 4
}
